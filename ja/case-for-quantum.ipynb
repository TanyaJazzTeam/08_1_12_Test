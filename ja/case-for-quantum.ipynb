{
  "cells": [
    {
      "cell_type": "markdown",
      "metadata": {
        "tags": [
          "remove_cell"
        ]
      },
      "source": [
        "# 量子コンピューターの事例"
      ]
    },
    {
      "cell_type": "markdown",
      "metadata": {
      },
      "source": [
        "## 1.追加の複雑さ<a id=\"adding\"></a>\n",
        "\n",
        "簡単に言えば、量子コンピューターのケースは、従来のコンピューターでは解決できなかった特定の問題を解決できるということです。この理由を理解するには、まず、特定の問題を解決するために必要な計算量を考慮する必要があります。\n",
        "\n",
        "最初に、最初のセクションで検討したアルゴリズムをもう一度見てみましょう: 2 つの数値を加算します。\n",
        "\n",
        "```code\n",
        "   9213\n",
        "+  1854\n",
        "=  ????\n",
        "```\n",
        "\n",
        "2 つの $n$ 桁の数字の加算は、1 桁の数字を 2 つ加算するだけの簡単な操作で実行できます。手順の複雑さを分析するために、これらの基本的な追加がいくつ必要で、この数が $n$ にどのように依存するかを考えることができます。この数値を $c(n)$ と呼びます。\n",
        "\n",
        "どの時点でも 1 を運ぶ必要がない最も簡単なケースでは、$n$ の基本的な加算のみが必要です。最悪の場合、$n$ のキャリー操作を実行する必要があり、それぞれに追加の基本的な加算が必要になります。これらの考察から、$n \\leq c(n) \\leq 2n$ と結論付けることができます。\n",
        "\n",
        "## 2.ビッグオー記法<a id=\"big-o\"></a>\n",
        "\n",
        "この結果を要約すると、$c(n)$ は $n$ に比例して増加すると言えます。より一般的には、$n$ が大きい場合に $c(n)$ の上限として機能する $n$ の線形関数を見つけることができると言えます。これは長くて冗長な文であるため、実際にはあまり頻繁に言いたくありません。代わりに、「big O 記法」を使用してよりコンパクトに表現できます。\n",
        "\n",
        "<!-- ::: q-block.reminder -->\n",
        "\n",
        "## リマインダー\n",
        "\n",
        "<summary>ビッグオー表記</summary>関数 $f(x)$ と $g(x)$ およびパラメータ $x$ の例では、ステートメント $f(x) = O(g(x))$ は、いくつかの有限数 $M&gt;0 が存在することを意味します。 <code data-md-type=\"part_formula\" class=\"part_formula\">$$ f(x) \\leq M g(x) \\forall x&gt;x_0. $$</code>\n",
        "\n",
        "<!-- ::: -->\n",
        "\n",
        "Big O 表記は、検討中の特定のプラットフォームやアルゴリズムの実装に関係なく、アルゴリズムに必要なリソース/ランタイムが入力サイズでどのようにスケーリングされるかを比較できるため便利です。以下は、入力サイズ $n$ の関数としてのランタイム $N$ の一般的な倍率の例です。問題のサイズが十分に大きい場合、$O(a^n)$ アルゴリズムの実行時間が $O(n^b)$ アルゴリズムの実行時間を超えることは明らかです。ここで、$a$ と $b$ は定数です。\n",
        "\n",
        "&lt;figure&gt;\n",
        "  &lt;img src=\"images/1920px-Comparison_computational_complexity.png\" alt=\"Drawing\" style=\"max-width: 400px;\"/&gt;\n",
        "  &lt;figcaption&gt;Comparisons of different time complexities. n is the number of input bits, and N is the number of operations required. [5]&lt;/figcaption&gt;\n",
        "&lt;/figure&gt;\n",
        "\n",
        "この表記法では、上記のプロパティは単純に $c(n) = O(n)$ と表されます。これにより、詳細にこだわる必要なく、線形の動作を捉えることができます。したがって、$c(n) = n$、$c(n) = 2n$、またはその他の値であるかどうかに関係なく、単純に $c(n) = O(n)$ と言えます。\n",
        "\n",
        "これまで考えてきたことには、隠れた仮定があります。桁数について話すことで、特定の数体系の使用を想定しています。ただし、桁数は、使用している数体系 (10 進数、2 進数など) によって異なります。たとえば、ある数値を表すのに必要なビット数 $n_2$ は、同じ数値を表すのに必要な 10 進数 $n_{10}$ に関連しています\n",
        "\n",
        "$n_2 = \\left\\lceil \\frac{\\log 10}{ \\log 2} , n_{10} \\right\\rceil \\approx 3.3 , n_{10}.$\n",
        "\n",
        "これも直線的な関係なので、Big O表記を使って複雑さを表現する方法は変わりません。 $c(n_2) = O(n_2)$、$c(n_{10}) = O(n_{10})$、または $c(n_{10}) = O(n_{ 2})$.このため、使用されている数体系を指定する必要なく、桁数 $n$ について簡単に説明できることがよくあります。\n",
        "\n",
        "## 3. 複雑性理論<a id=\"complexity\"></a>\n",
        "\n",
        "Complexity theory is the study of the computational effort required to run any algorithm. By considering the best possible algorithm to solve a given problem, we can also study the computational effort inherent in solving this problem. For addition we already know the optimal algorithm, and so know that it is a problem with $O(n)$ complexity.\n",
        "\n",
        "乗算はそれほど単純ではありません。学校で学んだ 2 つの $n$ 桁の数の乗算アルゴリズムには、1 桁の加算や乗算などの $O(n^2)$ の基本演算が必要です。より漸近的な複雑さのアルゴリズムが見つかっていますが、$O(n)$ の複雑さで乗算を実行することは不可能であると広く見なされています。\n",
        "\n",
        "Even so, multiplication is far from being the most complex problem. An example of a problem with far greater complexity is factorization: taking an $n$-digit number and finding its prime factors. The best known algorithm in this case has a complexity that is worse than $O\\left(e^{n^{1/3}}\\right)$. The exponential here means that the complexity grows very quickly and makes factorization a very hard problem to solve.\n",
        "\n",
        "実際の計算時間を使用してこの点を実証するために、最近の例を挙げることができます.$^{1}$ 次の 829 桁の数字を考えてみましょう。"
      ]
    },
    {
      "cell_type": "code",
      "execution_count": 1,
      "metadata": {
      },
      "outputs": [

      ],
      "source": [
        "rsa_250 = 2140324650240744961264423072839333563008614715144755017797754920881418023447140136643345519095804679610992851872470914587687396261921557363047454770520805119056493106687691590019759405693457452230589325976697471681738069364894699871578494975937497937"
      ]
    },
    {
      "cell_type": "markdown",
      "metadata": {
      },
      "source": [
        "コンピューターを使用してこのサイズの数値を加算または乗算しようとすると、このような問題を非常に迅速に解決できることがわかります。コンピューターに搭載されているプロセッサの数に、コア秒数を取得するのにかかる秒数を掛けると、必要なコア秒数が 1 秒未満であることがわかります。\n",
        "\n",
        "しかし、この数を因数分解するには、スーパーコンピュータと約 2700 コア年が必要であり、最終的に次の 2 つの因数が得られます。"
      ]
    },
    {
      "cell_type": "code",
      "execution_count": 2,
      "metadata": {
      },
      "outputs": [
        {
          "data": {
            "text/plain": [
              "2140324650240744961264423072839333563008614715144755017797754920881418023447140136643345519095804679610992851872470914587687396261921557363047454770520805119056493106687691590019759405693457452230589325976697471681738069364894699871578494975937497937"
            ]
          },
          "execution_count": 2,
          "metadata": {
          },
          "output_type": "execute_result"
        }
      ],
      "source": [
        "p = 64135289477071580278790190170577389084825014742943447208116859632024532344630238623598752668347708737661925585694639798853367\n",
        "q = 33372027594978156556226010605355114227940760344767554666784520987023841729210037080257448673296881877565718986258036932062711\n",
        "p*q"
      ]
    },
    {
      "cell_type": "markdown",
      "metadata": {
      },
      "source": [
        "より大きな数を因数分解するには、惑星サイズのスーパーコンピューターが宇宙の年齢で実行する必要があるポイントに簡単に到達します.明らかに、そのような問題は事実上不可能です。\n",
        "\n",
        "これまでのところ、必要な単純な 1 桁の演算の数として表される複雑さで、$n$ 桁の数に対する数学演算のみを検討してきました。ただし、複雑性理論は、データベースの検索、グラフィックスのレンダリング、ダイナミクスのシミュレーション*、ゼルダの伝説*でのダンジョンの移動など、あらゆる種類の問題の計算方法を分析するために使用できます。いずれの場合も、入力サイズとして機能するパラメーターまたはパラメーターのセットを見つけ、big O 表記を使用してこの入力サイズの観点から複雑さを表すことができます。たとえば、$N$ エントリのデータベースを検索する場合、複雑さは $O(N)$ です。\n",
        "\n",
        "正式には、アルゴリズムの複雑さの定義は、使用している計算の正確な理論モデルに依存します。各モデルには、プリミティブ操作と呼ばれる一連の基本的な操作があり、これを使用して任意のアルゴリズムを表現できます。ブール回路の場合、最初のセクションで検討したように、基本操作は論理ゲートです。アラン・チューリングによって提案された架空のコンピューター形式であるチューリング マシンの場合、テープに保存された情報をステップ実行して操作するデバイスを想像します。 RAM モデルには、より複雑な一連のプリミティブ操作があり、私たちが毎日使用するコンピューターの理想化された形として機能します。これらはすべて、離散値の離散化操作に基づくデジタル計算のモデルです。それらは互いに異なっているように見えるかもしれませんが、それぞれが他のものをシミュレートするのは非常に簡単であることがわかります.これは、ほとんどの場合、計算の複雑さはこれらのモデルのどれが使用されるかに大きく依存しないことを意味します。したがって、特に RAM モデルやチューリング マシンの複雑さを述べるのではなく、デジタル コンピューターの複雑さについて簡単に説明できます。"
      ]
    },
    {
      "cell_type": "markdown",
      "metadata": {
      },
      "source": [
        "## 4. デジタル計算を超えて<a id=\"beyond\"></a>\n",
        "\n",
        "現在はデジタル コンピューターが主流ですが、コンピューターだけが計算の形式ではありません。アナログ コンピューターも広く研究され、過去に使用されていました。デジタル コンピューターの離散値とは異なり、これらは連続的に変化するパラメーターの正確な操作に基づいています。このようなデバイスは、デジタル コンピューターでは扱いにくい問題を迅速に解決できると主張されることがあります。しかし、そのような主張は実現されていません。アナログ コンピューターの主な障害は、任意の高精度のデバイスを構築できないことです。デジタル コンピューターでは、離散化とは、目立つようにエラーを比較的大きくする必要があることを意味し、そのようなエラーを検出して修正する方法を実装することができます。ただし、アナログ コンピューターでは、エラーが任意に小さく、検出が不可能な場合がありますが、それでもその影響が蓄積されて計算が台無しになる可能性があります。\n",
        "\n",
        "計算の理想的なモデルを提案するとしたら、デジタル コンピューターの堅牢性とアナログ コンピューターの微妙な操作を組み合わせようとするかもしれません。これを達成するために、量子力学に目を向けることができます。量子ビットは離散出力`0`と`1`を持つシステムであり、連続パラメーターによってのみ記述できる状態で存在できることは既に説明しました。これは、量子系に典型的な「波と粒子」の二重性のよく知られた概念の特定の例です。それらは、離散的または連続的のいずれかとして完全に説明することはできませんが、2 つの組み合わせです。アインシュタインが言ったように、$^{2}$\n",
        "\n",
        "> 「ある理論を使わなければならない場合もあれば、別の理論を使わなければならない場合もあるが、どちらか一方を使用する場合もある。私たちは新しい種類の困難に直面しています。矛盾する現実のイメージが 2 つあります。単独ではどちらも現象を完全に説明していません...しかし、一緒にすると説明できます。\n",
        "\n",
        "したがって、量子ビットに適用されるゲートが基本操作である量子コンピューターは、アナログでもデジタルでもなく、独自のものです。後続の章では、この独特な性質の結果を探ります。量子コンピューターは、デジタル コンピューターとは根本的に異なる複雑さの問題を解決できることがわかります。実際、量子コンピューティングは、特定のタスクについて従来のコンピューターよりも指数関数的に高速化できる唯一の既知のテクノロジーであり、計算時間を数年から数分に短縮できる可能性があります。また、量子誤り訂正が不完全性の影響をどのように取り除くことができるかについても説明します。"
      ]
    },
    {
      "cell_type": "markdown",
      "metadata": {
      },
      "source": [
        "## 5. 量子コンピュータをいつ使うべきか<a id=\"when\"></a>\n",
        "\n",
        "量子ビットと量子ゲートを使用すると、デジタルやアナログの従来のアルゴリズムとは根本的に異なる新しいアルゴリズムを設計できます。このようにして、古典的なコンピュータでは扱いにくい問題の解決策を見つけたいと考えています。\n",
        "\n",
        "これを行う 1 つの方法は、グローバル プロパティを決定したい関数がある場合です。たとえば、関数 $f(x)$ が最小であるパラメーター $x$ の値を見つけたい場合、または $f(x)$ が周期的である場合は関数の周期を見つけたい場合。デジタル コンピューターのアルゴリズムは、グローバル プロパティに関する十分な情報を取得するために、さまざまな異なる入力に対して $f(x)$ を計算するプロセスを使用する場合があります。しかし、量子コンピューターでは、重ね合わせ状態を作成できるという事実は、関数を多くの可能な入力に同時に適用できることを意味します。これは、可能なすべての出力にアクセスできるという意味ではありません。そのような状態を測定すると、単一の結果が得られるだけだからです。ただし、代わりに、必要なグローバル プロパティを明らかにする量子干渉効果を誘導しようとすることができます。\n",
        "\n",
        "この一般的な説明は、すでに発見されている多くの量子アルゴリズムの働きを示しています。顕著な例の 1 つは Grover のアルゴリズムで、$N$ アイテムの検索の複雑さを $O(N)$ から $O(N^{1/2})$ に軽減します。この 2 次の高速化は、最適化問題や機械学習など、非構造化検索として表現できるタスクを持つ多くのアプリケーションで役立つ可能性があります。"
      ]
    },
    {
      "cell_type": "code",
      "execution_count": 7,
      "metadata": {
        "tags": [
          "remove_input"
        ]
      },
      "outputs": [
        {
          "data": {
            "text/html": [
              "<figure><!DOCTYPE html>\n",
              "<html lang=\"en\">\n",
              "  <head>\n",
              "    <meta charset=\"utf-8\">\n",
              "    <title>Bokeh Application</title>\n",
              "    <script type=\"text/javascript\" src=\"https://cdn.bokeh.org/bokeh/release/bokeh-3.0.2.min.js\"></script>\n",
              "    <script type=\"text/javascript\" src=\"https://cdn.bokeh.org/bokeh/release/bokeh-widgets-3.0.2.min.js\"></script>\n",
              "    <script type=\"text/javascript\">\n",
              "        Bokeh.set_log_level(\"info\");\n",
              "    </script>\n",
              "  </head>\n",
              "  <body>\n",
              "    <div id=\"47b77a99-8e98-4a3a-93aa-5ba3635eb8ba\" data-root-id=\"p1745\" style=\"display: contents;\"></div>\n",
              "  \n",
              "    <script type=\"application/json\" id=\"p1972\">\n",
              "      {\"150bfda7-8549-464a-96b4-9df31c0b92f3\":{\"version\":\"3.0.2\",\"title\":\"Bokeh Application\",\"defs\":[],\"roots\":[{\"type\":\"object\",\"name\":\"Column\",\"id\":\"p1745\",\"attributes\":{\"children\":[{\"type\":\"object\",\"name\":\"Figure\",\"id\":\"p1655\",\"attributes\":{\"width\":800,\"height\":400,\"sizing_mode\":\"scale_width\",\"x_range\":{\"type\":\"object\",\"name\":\"Range1d\",\"id\":\"p1664\",\"attributes\":{\"end\":500}},\"y_range\":{\"type\":\"object\",\"name\":\"Range1d\",\"id\":\"p1666\",\"attributes\":{\"end\":500}},\"x_scale\":{\"type\":\"object\",\"name\":\"LinearScale\",\"id\":\"p1668\"},\"y_scale\":{\"type\":\"object\",\"name\":\"LinearScale\",\"id\":\"p1670\"},\"title\":{\"type\":\"object\",\"name\":\"Title\",\"id\":\"p1663\"},\"renderers\":[{\"type\":\"object\",\"name\":\"GlyphRenderer\",\"id\":\"p1697\",\"attributes\":{\"data_source\":{\"type\":\"object\",\"name\":\"ColumnDataSource\",\"id\":\"p1649\",\"attributes\":{\"selected\":{\"type\":\"object\",\"name\":\"Selection\",\"id\":\"p1650\",\"attributes\":{\"indices\":[],\"line_indices\":[]}},\"selection_policy\":{\"type\":\"object\",\"name\":\"UnionRenderers\",\"id\":\"p1651\"},\"data\":{\"type\":\"map\",\"entries\":[[\"x\",{\"type\":\"ndarray\",\"array\":{\"type\":\"bytes\",\"data\":\"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\"},\"shape\":[500],\"dtype\":\"int32\",\"order\":\"little\"}],[\"y\",{\"type\":\"ndarray\",\"array\":{\"type\":\"bytes\",\"data\":\"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\"},\"shape\":[500],\"dtype\":\"int32\",\"order\":\"little\"}]]}}},\"view\":{\"type\":\"object\",\"name\":\"CDSView\",\"id\":\"p1698\",\"attributes\":{\"filter\":{\"type\":\"object\",\"name\":\"AllIndices\",\"id\":\"p1699\"}}},\"glyph\":{\"type\":\"object\",\"name\":\"Line\",\"id\":\"p1694\",\"attributes\":{\"x\":{\"type\":\"field\",\"field\":\"x\"},\"y\":{\"type\":\"field\",\"field\":\"y\"},\"line_color\":\"blue\",\"line_alpha\":0.6,\"line_width\":3}},\"nonselection_glyph\":{\"type\":\"object\",\"name\":\"Line\",\"id\":\"p1695\",\"attributes\":{\"x\":{\"type\":\"field\",\"field\":\"x\"},\"y\":{\"type\":\"field\",\"field\":\"y\"},\"line_color\":\"blue\",\"line_alpha\":0.1,\"line_width\":3}},\"muted_glyph\":{\"type\":\"object\",\"name\":\"Line\",\"id\":\"p1696\",\"attributes\":{\"x\":{\"type\":\"field\",\"field\":\"x\"},\"y\":{\"type\":\"field\",\"field\":\"y\"},\"line_color\":\"blue\",\"line_alpha\":0.2,\"line_width\":3}}}},{\"type\":\"object\",\"name\":\"GlyphRenderer\",\"id\":\"p1721\",\"attributes\":{\"data_source\":{\"type\":\"object\",\"name\":\"ColumnDataSource\",\"id\":\"p1652\",\"attributes\":{\"selected\":{\"type\":\"object\",\"name\":\"Selection\",\"id\":\"p1653\",\"attributes\":{\"indices\":[],\"line_indices\":[]}},\"selection_policy\":{\"type\":\"object\",\"name\":\"UnionRenderers\",\"id\":\"p1654\"},\"data\":{\"type\":\"map\",\"entries\":[[\"x\",{\"type\":\"ndarray\",\"array\":{\"type\":\"bytes\",\"data\":\"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\"},\"shape\":[500],\"dtype\":\"int32\",\"order\":\"little\"}],[\"y\",{\"type\":\"ndarray\",\"array\":{\"type\":\"bytes\",\"data\":\"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\"},\"shape\":[500],\"dtype\":\"float64\",\"order\":\"little\"}]]}}},\"view\":{\"type\":\"object\",\"name\":\"CDSView\",\"id\":\"p1722\",\"attributes\":{\"filter\":{\"type\":\"object\",\"name\":\"AllIndices\",\"id\":\"p1723\"}}},\"glyph\":{\"type\":\"object\",\"name\":\"Line\",\"id\":\"p1718\",\"attributes\":{\"x\":{\"type\":\"field\",\"field\":\"x\"},\"y\":{\"type\":\"field\",\"field\":\"y\"},\"line_color\":\"red\",\"line_alpha\":0.6,\"line_width\":3}},\"nonselection_glyph\":{\"type\":\"object\",\"name\":\"Line\",\"id\":\"p1719\",\"attributes\":{\"x\":{\"type\":\"field\",\"field\":\"x\"},\"y\":{\"type\":\"field\",\"field\":\"y\"},\"line_color\":\"red\",\"line_alpha\":0.1,\"line_width\":3}},\"muted_glyph\":{\"type\":\"object\",\"name\":\"Line\",\"id\":\"p1720\",\"attributes\":{\"x\":{\"type\":\"field\",\"field\":\"x\"},\"y\":{\"type\":\"field\",\"field\":\"y\"},\"line_color\":\"red\",\"line_alpha\":0.2,\"line_width\":3}}}}],\"toolbar\":{\"type\":\"object\",\"name\":\"Toolbar\",\"id\":\"p1662\",\"attributes\":{\"tools\":[{\"type\":\"object\",\"name\":\"ResetTool\",\"id\":\"p1686\"},{\"type\":\"object\",\"name\":\"SaveTool\",\"id\":\"p1687\"}]}},\"left\":[{\"type\":\"object\",\"name\":\"LinearAxis\",\"id\":\"p1679\",\"attributes\":{\"ticker\":{\"type\":\"object\",\"name\":\"BasicTicker\",\"id\":\"p1682\",\"attributes\":{\"mantissas\":[1,2,5]}},\"formatter\":{\"type\":\"object\",\"name\":\"BasicTickFormatter\",\"id\":\"p1680\"},\"axis_label\":\"Time Taken to Find Solution\",\"major_label_policy\":{\"type\":\"object\",\"name\":\"AllLabels\",\"id\":\"p1681\"}}}],\"below\":[{\"type\":\"object\",\"name\":\"LinearAxis\",\"id\":\"p1672\",\"attributes\":{\"ticker\":{\"type\":\"object\",\"name\":\"BasicTicker\",\"id\":\"p1675\",\"attributes\":{\"mantissas\":[1,2,5]}},\"formatter\":{\"type\":\"object\",\"name\":\"BasicTickFormatter\",\"id\":\"p1673\"},\"axis_label\":\"Size of Problem\",\"major_label_policy\":{\"type\":\"object\",\"name\":\"AllLabels\",\"id\":\"p1674\"}}}],\"center\":[{\"type\":\"object\",\"name\":\"Grid\",\"id\":\"p1678\",\"attributes\":{\"axis\":{\"id\":\"p1672\"}}},{\"type\":\"object\",\"name\":\"Grid\",\"id\":\"p1685\",\"attributes\":{\"dimension\":1,\"axis\":{\"id\":\"p1679\"}}},{\"type\":\"object\",\"name\":\"Legend\",\"id\":\"p1713\",\"attributes\":{\"location\":\"top_left\",\"items\":[{\"type\":\"object\",\"name\":\"LegendItem\",\"id\":\"p1714\",\"attributes\":{\"label\":{\"type\":\"value\",\"value\":\"Classical Search O(N)\"},\"renderers\":[{\"id\":\"p1697\"}]}},{\"type\":\"object\",\"name\":\"LegendItem\",\"id\":\"p1742\",\"attributes\":{\"label\":{\"type\":\"value\",\"value\":\"Quantum Search O(\\u221aN)\"},\"renderers\":[{\"id\":\"p1721\"}]}}]}}]}},{\"type\":\"object\",\"name\":\"Slider\",\"id\":\"p1744\",\"attributes\":{\"js_property_callbacks\":{\"type\":\"map\",\"entries\":[[\"change:value\",[{\"type\":\"object\",\"name\":\"CustomJS\",\"id\":\"p1743\",\"attributes\":{\"args\":{\"type\":\"map\",\"entries\":[[\"source\",{\"id\":\"p1652\"}]]},\"code\":\"\\n        var data = source.data;\\n        var f = (10-cb_obj.value)*2 + 3\\n        var x = data['x']\\n        var y = data['y']\\n        for (var i = 0; i &lt; x.length; i++) {\\n            y[i] = f*Math.sqrt(x[i])\\n        }\\n        source.change.emit();\\n    \"}}]]]},\"title\":\"Relative Speed of Quantum Computer\",\"show_value\":false,\"start\":1.0,\"end\":10.0,\"value\":7.5,\"step\":0.1}}]}}]}}\n",
              "    </script>\n",
              "    <script type=\"text/javascript\">\n",
              "      (function() {\n",
              "        const fn = function() {\n",
              "          Bokeh.safely(function() {\n",
              "            (function(root) {\n",
              "              function embed_document(root) {\n",
              "              const docs_json = document.getElementById('p1972').textContent;\n",
              "              const render_items = [{\"docid\":\"150bfda7-8549-464a-96b4-9df31c0b92f3\",\"roots\":{\"p1745\":\"47b77a99-8e98-4a3a-93aa-5ba3635eb8ba\"},\"root_ids\":[\"p1745\"]}];\n",
              "              root.Bokeh.embed.embed_items(docs_json, render_items);\n",
              "              }\n",
              "              if (root.Bokeh !== undefined) {\n",
              "                embed_document(root);\n",
              "              } else {\n",
              "                let attempts = 0;\n",
              "                const timer = setInterval(function(root) {\n",
              "                  if (root.Bokeh !== undefined) {\n",
              "                    clearInterval(timer);\n",
              "                    embed_document(root);\n",
              "                  } else {\n",
              "                    attempts++;\n",
              "                    if (attempts > 100) {\n",
              "                      clearInterval(timer);\n",
              "                      console.log(\"Bokeh: ERROR: Unable to run BokehJS code because BokehJS library is missing\");\n",
              "                    }\n",
              "                  }\n",
              "                }, 10, root)\n",
              "              }\n",
              "            })(window);\n",
              "          });\n",
              "        };\n",
              "        if (document.readyState != \"loading\") fn();\n",
              "        else document.addEventListener(\"DOMContentLoaded\", fn);\n",
              "      })();\n",
              "    </script>\n",
              "  </body>\n",
              "</html><figcaption>\n",
              "Comparing performance of algorithms across different platforms is difficult. What we can tell (through big-O-notation) is \n",
              "despite the difference in speeds between our classical and quantum computers, for a large enough problem, the quantum search \n",
              "algorithm will always out-perform the classical search algorithm.</figcaption></figure>"
            ],
            "text/plain": [
              "<IPython.core.display.HTML object>"
            ]
          },
          "execution_count": 7,
          "metadata": {
          },
          "output_type": "execute_result"
        }
      ],
      "source": [
        "# This code is to create the interactive figure\n",
        "from bokeh.layouts import column\n",
        "from bokeh.models import ColumnDataSource, CustomJS, Slider\n",
        "from bokeh.plotting import figure, show\n",
        "from bokeh.embed import file_html\n",
        "from bokeh.resources import CDN\n",
        "import numpy as np\n",
        "import IPython\n",
        "\n",
        "x = np.arange(0,500)\n",
        "y_linear = x\n",
        "y_sqrt = 7.5*np.sqrt(x)\n",
        "\n",
        "linear_source = ColumnDataSource(data=dict(x=x, y=y_linear))\n",
        "sqrt_source = ColumnDataSource(data=dict(x=x, y=y_sqrt))\n",
        "\n",
        "plot = figure(\n",
        "              height=400, \n",
        "              width=800,\n",
        "              sizing_mode=\"scale_width\",\n",
        "              tools=\"reset,save\",\n",
        "              x_range=[0, 500], y_range=[0, 500], \n",
        "              x_axis_label=\"Size of Problem\",\n",
        "              y_axis_label=\"Time Taken to Find Solution\")\n",
        "plot.line('x', 'y', source=linear_source, line_width=3, line_alpha=0.6, color=\"blue\", legend_label=\"Classical Search O(N)\")\n",
        "plot.line('x', 'y', source=sqrt_source, line_width=3, line_alpha=0.6, color=\"red\", legend_label=\"Quantum Search O(√N)\")\n",
        "plot.legend.location = \"top_left\"\n",
        "\n",
        "callback = CustomJS(args=dict(source=sqrt_source), code=\"\"\"\n",
        "        var data = source.data;\n",
        "        var f = (10-cb_obj.value)*2 + 3\n",
        "        var x = data['x']\n",
        "        var y = data['y']\n",
        "        for (var i = 0; i < x.length; i++) {\n",
        "            y[i] = f*Math.sqrt(x[i])\n",
        "        }\n",
        "        source.change.emit();\n",
        "    \"\"\")\n",
        "\n",
        "speed_slider = Slider(title=\"Relative Speed of Quantum Computer\", value=7.5, start=1.0, end=10.0, step=0.1, show_value=False)\n",
        "speed_slider.js_on_change('value', callback)\n",
        "\n",
        "layout = column(plot, speed_slider)\n",
        "\n",
        "caption = \"\"\"\n",
        "Comparing performance of algorithms across different platforms is difficult. What we can tell (through big-O-notation) is \n",
        "despite the difference in speeds between our classical and quantum computers, for a large enough problem, the quantum search \n",
        "algorithm will always out-perform the classical search algorithm.\"\"\"\n",
        "\n",
        "html_repr = file_html(layout, CDN)\n",
        "html_fig = \"<figure>{0}<figcaption>{1}</figcaption></figure>\".format(html_repr, caption)\n",
        "IPython.display.HTML(html_fig)"
      ]
    },
    {
      "cell_type": "markdown",
      "metadata": {
      },
      "source": [
        "因数分解問題の中心にある周期関数を分析する Shor のアルゴリズムを使用すると、さらに印象的なスピードアップが得られます。これにより、複雑さ $O(n^3)$ を持つ $n$ 桁の数を素因数分解するための量子ソリューションが可能になります。これは、$O\\left(e^{n^{1/3}}\\right)$ よりも悪いデジタル コンピューターの複雑さと比較して、超多項式の高速化です。\n",
        "\n",
        "量子アルゴリズムに対するもう 1 つのアプローチは、量子コンピューターを使用して量子問題を解決することです。次の章で説明するように、量子状態を表現するには、量子ビットの数に応じて指数関数的にスケーリングする情報量が必要です。したがって、$n$ が増加するにつれて、$n$ キュービットの状態を書き留めるだけでも、デジタル コンピューターにとって手に負えない作業になります。ただし、量子コンピューターの場合、同じ仕事をするのに必要なのは $n$ 量子ビットだけです。量子状態を表現および操作するこの自然な能力により、分子や基本粒子などの対象の量子システムを研究し、理解を深めることができます。\n",
        "\n",
        "したがって、さまざまな業界で量子アルゴリズムを適用および適応させることは、ビジネスおよび科学における破壊的なユースケースを可能にする見込みがあります。これらには、創薬、機械学習、材料発見、オプションの価格設定、タンパク質フォールディング、およびサプライ チェーンにおけるブレークスルーが含まれます.$^{3}$ 古典的なアルゴリズムが固有のスケーリングの限界に直面し、大規模な古典的なアルゴリズムを必要としない問題は、特に有望です。ロードするデータセット。量子優位性を得るには、与えられた問題の答えは、量子力学がすべての経路をたどる必要なく解に発展するように、指数関数的に多くの絡み合った構造の自由度に強く依存する必要があります。ただし、量子コンピューターにとって「簡単」な問題 (多項式時間で解ける) と他の複雑性理論クラスとの正確な関係は、まだ未解決の問題であることに注意してください.$^{4}$\n",
        "\n",
        "これは、量子アルゴリズムが独自の方法で計算を実行する方法のほんの一例です。これらのアプローチの詳細については、後の章で説明します。しかし、最初に、単一の量子ビットを超えて、必要な量子ゲートの完全なセットを理解するために時間を費やす必要があります.これが次の章の焦点です。"
      ]
    },
    {
      "cell_type": "markdown",
      "metadata": {
      },
      "source": [
        "## 6.参考文献<a id=\"references\"></a>\n",
        "\n",
        "1. https://lists.gforge.inria.fr/pipermail/cado-nfs-discuss/2020-February/001166.html\n",
        "2. アルバート・アインシュタイン、レオポルド・インフェルド (1938)。物理学の進化: 初期の概念から相対性理論と量子へのアイデアの成長。ケンブリッジ大学出版局。\n",
        "3. https://www.ibm.com/thought-leadership/institute-business-value/report/quantumstrategy\n",
        "4. https://www.cs.virginia.edu/~robins/The_Limits_of_Quantum_Computers.pdf\n",
        "5. 画像: Cmglee / CC BY-SA (https://creativecommons.org/licenses/by-sa/4.0)"
      ]
    },
    {
      "cell_type": "code",
      "execution_count": 17,
      "metadata": {
      },
      "outputs": [
        {
          "data": {
            "text/html": [
              "<h3>Version Information</h3><table><tr><th>Qiskit Software</th><th>Version</th></tr><tr><td>Qiskit</td><td>0.27.0</td></tr><tr><td>Terra</td><td>0.17.4</td></tr><tr><td>Aer</td><td>0.8.2</td></tr><tr><td>Ignis</td><td>0.6.0</td></tr><tr><td>Aqua</td><td>0.9.2</td></tr><tr><td>IBM Q Provider</td><td>0.14.0</td></tr><tr><th>System information</th></tr><tr><td>Python</td><td>3.7.7 (default, May  6 2020, 04:59:01) \n",
              "[Clang 4.0.1 (tags/RELEASE_401/final)]</td></tr><tr><td>OS</td><td>Darwin</td></tr><tr><td>CPUs</td><td>8</td></tr><tr><td>Memory (Gb)</td><td>32.0</td></tr><tr><td colspan='2'>Thu Jun 17 15:13:01 2021 BST</td></tr></table>"
            ],
            "text/plain": [
              "<IPython.core.display.HTML object>"
            ]
          },
          "metadata": {
          },
          "output_type": "display_data"
        }
      ],
      "source": [
        "import qiskit.tools.jupyter\n",
        "%qiskit_version_table"
      ]
    }
  ],
  "metadata": {
    "kernelspec": {
      "display_name": "Python 3",
      "language": "python",
      "name": "python3"
    },
    "language_info": {
      "codemirror_mode": {
        "name": "ipython",
        "version": 3
      },
      "file_extension": ".py",
      "mimetype": "text/x-python",
      "name": "python",
      "nbconvert_exporter": "python",
      "pygments_lexer": "ipython3",
      "version": "3.9"
    }
  },
  "nbformat": 4,
  "nbformat_minor": 4
}
